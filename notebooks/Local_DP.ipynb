{
  "nbformat": 4,
  "nbformat_minor": 0,
  "metadata": {
    "colab": {
      "provenance": []
    },
    "kernelspec": {
      "name": "python3",
      "display_name": "Python 3"
    },
    "language_info": {
      "name": "python"
    }
  },
  "cells": [
    {
      "cell_type": "code",
      "source": [
        "!pip install opendp"
      ],
      "metadata": {
        "id": "GKl0TgTLN-ed"
      },
      "execution_count": null,
      "outputs": []
    },
    {
      "cell_type": "code",
      "source": [
        "import numpy as np\n",
        "import opendp\n",
        "from opendp.metrics import l1_distance, l2_distance\n",
        "from opendp.domains import vector_domain, atom_domain\n",
        "from opendp.measurements import make_base_discrete_laplace, \\\n",
        "                                make_base_discrete_gaussian, \\\n",
        "                                make_base_gaussian, \\\n",
        "                                make_base_laplace, \\\n",
        "                                make_randomized_response_bool, \\\n",
        "                                make_randomized_response\n",
        "\n",
        "class LocalDifferentialPrivacy:\n",
        "    def __init__(self, scale, probability):\n",
        "      self.scale = scale # for laplace noise\n",
        "      self.probability = probability # for randomized response\n",
        "\n",
        "    def define_input_space(self, input_space_type='vector', variable_type='float'):\n",
        "      if input_space_type == 'scalar':\n",
        "        input_space = atom_domain(T=variable_type), l1_distance(T=variable_type)\n",
        "      elif input_space_type == 'vector':\n",
        "        input_space = vector_domain(atom_domain(T=variable_type)), l1_distance(T=variable_type)\n",
        "      else:\n",
        "          raise ValueError(\"Unsupported input type\")\n",
        "      return input_space\n",
        "\n",
        "    def add_laplace_noise(self, input_space, value, variable_type='float'):\n",
        "      if variable_type == 'int':\n",
        "        base_discrete_lap = make_base_discrete_laplace(*input_space, scale=self.scale)\n",
        "        noisy_value = base_discrete_lap(value)\n",
        "      elif variable_type == 'float':\n",
        "        base_lap = make_base_laplace(*input_space, scale=self.scale)\n",
        "        noisy_value = base_lap(value)\n",
        "      else:\n",
        "          raise ValueError(\"Unsupported variable type\")\n",
        "      return noisy_value\n",
        "\n",
        "    def randomized_response(self, true_value, variable_type='bool'):\n",
        "      if variable_type == 'bool':\n",
        "        rr_measure = make_randomized_response_bool(prob=self.probability)\n",
        "      elif variable_type == 'categorical':\n",
        "        rr_measure = make_randomized_response(list(set(true_value)), prob=self.probability)\n",
        "      else:\n",
        "          raise ValueError(\"Unsupported variable type\")\n",
        "      noisy_value = [rr_measure(value) for value in true_value]\n",
        "      return noisy_value"
      ],
      "metadata": {
        "id": "ADQXyn68P07d"
      },
      "execution_count": null,
      "outputs": []
    },
    {
      "cell_type": "code",
      "source": [
        "# test\n",
        "privacy = LocalDifferentialPrivacy(1.0, 0.75)\n",
        "\n",
        "# Add Laplace noise\n",
        "sensitivity = 10\n",
        "true_value_float = [8.9, 3.4, 6.2, 10.0, 0.0, 0.3]\n",
        "true_value_int = [3, 5, 7, 1, 0, 9, 9]\n",
        "true_value_bool = [True, False, False, True, False]\n",
        "true_value_category = ['C','A','E','B','B','C','A','D','E','E','E']\n",
        "\n",
        "# Add Laplace noise\n",
        "input_space = privacy.define_input_space(input_space_type = 'vector', variable_type = 'float')\n",
        "noisy_value = privacy.add_laplace_noise(input_space, true_value_float)\n",
        "print(\"Laplace noisy value:\", noisy_value)\n",
        "\n",
        "# Add Laplace noise discerete\n",
        "input_space = privacy.define_input_space(input_space_type = 'vector', variable_type = 'int')\n",
        "noisy_value = privacy.add_laplace_noise(input_space, true_value_int, variable_type = 'int')\n",
        "print(\"Laplace discrete noisy value:\", noisy_value)\n",
        "\n",
        "# Randomized Response boolean\n",
        "noisy_value = privacy.randomized_response(true_value_bool)\n",
        "print(\"Randomized Response noisy value:\", noisy_value)\n",
        "\n",
        "# Randomized Response categorical\n",
        "noisy_value = privacy.randomized_response(true_value_category, variable_type = 'categorical')\n",
        "print(\"Randomized Response noisy value:\", noisy_value)"
      ],
      "metadata": {
        "id": "S1dIq128hXp_"
      },
      "execution_count": null,
      "outputs": []
    }
  ]
}
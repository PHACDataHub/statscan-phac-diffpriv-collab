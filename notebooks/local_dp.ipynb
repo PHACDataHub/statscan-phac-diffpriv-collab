{
 "cells": [
  {
   "cell_type": "code",
   "execution_count": 42,
   "id": "ad2d20e4-d28b-42a7-8349-564fc491c540",
   "metadata": {},
   "outputs": [
    {
     "name": "stdout",
     "output_type": "stream",
     "text": [
      "Requirement already satisfied: opendp in /opt/conda/lib/python3.10/site-packages (0.8.0)\n"
     ]
    }
   ],
   "source": [
    "!pip install opendp"
   ]
  },
  {
   "cell_type": "markdown",
   "id": "4dd98fec-bb8f-440d-a1f6-495451d4ee6a",
   "metadata": {},
   "source": [
    "- Read the data "
   ]
  },
  {
   "cell_type": "code",
   "execution_count": 33,
   "id": "4801e160-2f2a-479b-a201-9d2198d73ffc",
   "metadata": {},
   "outputs": [],
   "source": [
    "import pandas as pd"
   ]
  },
  {
   "cell_type": "code",
   "execution_count": 43,
   "id": "cbb8f2a1-dd89-4253-84a6-be3cdf36ac2e",
   "metadata": {},
   "outputs": [],
   "source": [
    "df = pd.read_csv('cleaned_data.csv')\n",
    "\n",
    "# convert necessary columns to categorical\n",
    "columns_to_convert = ['GEO_PRV', 'GEODGHR4', 'DHH_SEX', 'DHHGMS', 'DHHGAGE', 'GEN_005',\n",
    "       'GEN_015', 'GEN_020', 'GEN_025', 'SMK_005', 'SMK_015', 'SMK_020',\n",
    "       'SMK_030']\n",
    "\n",
    "df[columns_to_convert] = df[columns_to_convert].astype('category')"
   ]
  },
  {
   "cell_type": "markdown",
   "id": "2f9d9e7c-085f-46dc-93f6-5ddebcf0ebf4",
   "metadata": {},
   "source": [
    "- Local DP "
   ]
  },
  {
   "cell_type": "code",
   "execution_count": 35,
   "id": "5012eddd-5ca6-4f03-8fc7-e73d73712c37",
   "metadata": {},
   "outputs": [],
   "source": [
    "from opendp.mod import enable_features\n",
    "enable_features(\"contrib\")"
   ]
  },
  {
   "cell_type": "code",
   "execution_count": 46,
   "id": "26fd3af1-bca8-4a86-a829-c8e9edb45c2f",
   "metadata": {},
   "outputs": [],
   "source": [
    "import numpy as np\n",
    "import opendp\n",
    "from typing import List, Union\n",
    "from opendp.metrics import l1_distance, l2_distance\n",
    "from opendp.domains import vector_domain, atom_domain\n",
    "from opendp.measurements import make_base_discrete_laplace, \\\n",
    "                                make_base_discrete_gaussian, \\\n",
    "                                make_base_gaussian, \\\n",
    "                                make_base_laplace, \\\n",
    "                                make_randomized_response_bool, \\\n",
    "                                make_randomized_response\n",
    "\n",
    "class LocalDifferentialPrivacy:\n",
    "    def __init__(self, scale, probability):\n",
    "      self.scale = scale # for laplace noise\n",
    "      self.probability = probability # for randomized response\n",
    "\n",
    "    def define_input_space(self, input_space_type: str ='vector', variable_type: str ='float'):\n",
    "        \"\"\"\n",
    "        Define the input space for measurements.\n",
    "\n",
    "        Parameters:\n",
    "        - input_space_type: Type of input space ('scalar' or 'vector').\n",
    "        - variable_type: Type of variable ('float', 'int', etc.).\n",
    "        Returns:\n",
    "        - input_space: Tuple specifying the input space.\n",
    "        \"\"\"\n",
    "        \n",
    "        if input_space_type == 'scalar':\n",
    "            input_space = atom_domain(T=variable_type), l1_distance(T=variable_type)\n",
    "        elif input_space_type == 'vector':\n",
    "            input_space = vector_domain(atom_domain(T=variable_type)), l1_distance(T=variable_type)\n",
    "        else:\n",
    "            raise ValueError(\"Unsupported input type\")\n",
    "        return input_space\n",
    "\n",
    "    def add_laplace_noise(self, input_space: List[Union[str, float, int]], value: str, variable_type='float'):\n",
    "        \"\"\"\n",
    "        Add Laplace noise to the input value.\n",
    "\n",
    "        Parameters:\n",
    "        - input_space: Input space for the measurement.\n",
    "        - value: The true value to which noise is added.\n",
    "        - variable_type: Type of variable ('float', 'int', etc.).\n",
    "\n",
    "        Returns:\n",
    "        - noisy_value: The noisy value after adding Laplace noise.\n",
    "        \"\"\"\n",
    "        if variable_type == 'int':\n",
    "            base_discrete_lap = make_base_discrete_laplace(*input_space, scale=self.scale)\n",
    "            noisy_value = base_discrete_lap(value)\n",
    "        elif variable_type == 'float':\n",
    "            base_lap = make_base_laplace(*input_space, scale=self.scale)\n",
    "            noisy_value = base_lap(value)\n",
    "        else:\n",
    "            raise ValueError(\"Unsupported variable type\")\n",
    "        return noisy_value\n",
    "\n",
    "    def randomized_response(self, true_value: List[Union[str, float, int]], variable_type: str ='bool'):\n",
    "        \"\"\"\n",
    "        Function to add local noise depending on the type of variable\n",
    "        Paramaters:\n",
    "            - true_value: list of values into which noise is injected\n",
    "            - variable_type: type of variable [Possible options: bool, categorical]\n",
    "        Returns:\n",
    "            - noisy_value: list with the noise injected\n",
    "        \"\"\"\n",
    "        if variable_type == 'bool':\n",
    "            rr_measure = make_randomized_response_bool(prob=self.probability)\n",
    "        elif variable_type == 'categorical':\n",
    "            rr_measure = make_randomized_response(list(set(true_value)), prob=self.probability)\n",
    "        else:\n",
    "            raise ValueError(\"Unsupported variable type\")\n",
    "        noisy_value = [rr_measure(value) for value in true_value]\n",
    "        return noisy_value"
   ]
  },
  {
   "cell_type": "code",
   "execution_count": null,
   "id": "e29752db-564a-40a3-95f6-d1117885cd3b",
   "metadata": {},
   "outputs": [],
   "source": [
    "- Apply Local DP to the dat"
   ]
  },
  {
   "cell_type": "code",
   "execution_count": 37,
   "id": "89f51374-8cef-4c22-96d4-9b330e25f14c",
   "metadata": {},
   "outputs": [
    {
     "name": "stderr",
     "output_type": "stream",
     "text": [
      "100%|██████████| 16/16 [02:54<00:00, 10.88s/it]\n"
     ]
    }
   ],
   "source": [
    "from tqdm import tqdm\n",
    "tqdm.pandas()\n",
    "\n",
    "def apply_local_dp(column):\n",
    "    \"\"\"\n",
    "    Apply local differential privacy to a given column of data based on its data type.\n",
    "\n",
    "    Parameters:\n",
    "    - column: A pandas Series representing the data column.\n",
    "\n",
    "    Returns:\n",
    "    - noisy_result: The column with local differential privacy applied.\n",
    "    \"\"\"\n",
    "    \n",
    "    privacy = LocalDifferentialPrivacy(1.2, 0.50)\n",
    "    \n",
    "    if column.dtype=='category':\n",
    "        noisy_result = privacy.randomized_response(column.tolist(), variable_type='categorical')\n",
    "    elif column.dtype == 'int':\n",
    "        input_space = privacy.define_input_space(input_space_type = 'vector', variable_type = 'int')\n",
    "        noisy_value = privacy.add_laplace_noise(input_space, column.tolist(), variable_type = 'int')\n",
    "    elif column.dtype == 'float':\n",
    "        input_space = privacy.define_input_space(input_space_type = 'vector', variable_type = 'float')\n",
    "        noisy_value = privacy.add_laplace_noise(input_space, column.tolist(), variable_type = 'float')\n",
    "    elif column.dtype == 'bool':\n",
    "        noisy_value = privacy.randomized_response(column.tolist())\n",
    "    else:\n",
    "        return column\n",
    "    \n",
    "    return noisy_result\n",
    "\n",
    "df_transformed = df.progress_apply(apply_local_dp)"
   ]
  }
 ],
 "metadata": {
  "environment": {
   "kernel": "conda-root-py",
   "name": "workbench-notebooks.m111",
   "type": "gcloud",
   "uri": "gcr.io/deeplearning-platform-release/workbench-notebooks:m111"
  },
  "kernelspec": {
   "display_name": "Python 3",
   "language": "python",
   "name": "conda-root-py"
  },
  "language_info": {
   "codemirror_mode": {
    "name": "ipython",
    "version": 3
   },
   "file_extension": ".py",
   "mimetype": "text/x-python",
   "name": "python",
   "nbconvert_exporter": "python",
   "pygments_lexer": "ipython3",
   "version": "3.10.12"
  }
 },
 "nbformat": 4,
 "nbformat_minor": 5
}

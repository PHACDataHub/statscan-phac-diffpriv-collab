{
  "nbformat": 4,
  "nbformat_minor": 0,
  "metadata": {
    "colab": {
      "provenance": []
    },
    "kernelspec": {
      "name": "python3",
      "display_name": "Python 3"
    },
    "language_info": {
      "name": "python"
    }
  },
  "cells": [
    {
      "cell_type": "markdown",
      "source": [
        "Everything here should ernd up ebing in its own function, split by cell"
      ],
      "metadata": {
        "id": "rQbsdkijrNo6"
      }
    },
    {
      "cell_type": "code",
      "source": [
        "# CONFIG FILE PARAMETERS\n",
        "data_path = ...\n",
        "random_seed = ...\n",
        "output_filepath = ...\n",
        "..."
      ],
      "metadata": {
        "id": "uyeNlrnKq8-G"
      },
      "execution_count": null,
      "outputs": []
    },
    {
      "cell_type": "markdown",
      "source": [
        "# Utility functions\n",
        "Function to be used by any file"
      ],
      "metadata": {
        "id": "tPzJB4h4tZlJ"
      }
    },
    {
      "cell_type": "code",
      "source": [
        "# Plot a given set of data (try and abstract this to handle all plot calls for\n",
        "# a given type of plot.)\n",
        "..."
      ],
      "metadata": {
        "id": "XZCxEYFhtisX"
      },
      "execution_count": null,
      "outputs": []
    },
    {
      "cell_type": "code",
      "source": [
        "# Output function(s) which supports needde types of outputs (csv, json, ...)\n",
        "..."
      ],
      "metadata": {
        "id": "SJaQrRkexfnt"
      },
      "execution_count": null,
      "outputs": []
    },
    {
      "cell_type": "markdown",
      "source": [
        "# Loading the data"
      ],
      "metadata": {
        "id": "TOwaQpblqv3D"
      }
    },
    {
      "cell_type": "code",
      "execution_count": null,
      "metadata": {
        "id": "AQc4empHqsGo"
      },
      "outputs": [],
      "source": [
        "# Load data file from config\n",
        "data = ..."
      ]
    },
    {
      "cell_type": "code",
      "source": [
        "# Data cleaning (not the selection of columns, but any other clearning steps)\n",
        "cleaned_data = ..."
      ],
      "metadata": {
        "id": "hRpl9Ctxxv8J"
      },
      "execution_count": null,
      "outputs": []
    },
    {
      "cell_type": "code",
      "source": [
        "# Stratify into groups via column groupby\n",
        "stratified_data = ..."
      ],
      "metadata": {
        "id": "zTGM-pvdrJie"
      },
      "execution_count": null,
      "outputs": []
    },
    {
      "cell_type": "code",
      "source": [
        "# Stratify into groups via custom scheme\n",
        "# Specifically, specifyapproximate number of clients and clients get some number\n",
        "# of samples pulled from some distribution\n",
        "stratified_data = ..."
      ],
      "metadata": {
        "id": "D1VyuC-ZriEz"
      },
      "execution_count": null,
      "outputs": []
    },
    {
      "cell_type": "markdown",
      "source": [
        "Need to determine whether we want to generate the stratified datasets in a static way, then change the sample size, or vice-versa."
      ],
      "metadata": {
        "id": "Yivfbt7KsDi8"
      }
    },
    {
      "cell_type": "code",
      "source": [
        "# Update the number of samples to be used\n",
        "stratified_data = ..."
      ],
      "metadata": {
        "id": "WtjP5mRUr57w"
      },
      "execution_count": null,
      "outputs": []
    },
    {
      "cell_type": "markdown",
      "source": [
        "Note that data loading should not be done during each run, but rather be pre-generated and loaded appropriately."
      ],
      "metadata": {
        "id": "FA2wUCUGsqqn"
      }
    },
    {
      "cell_type": "code",
      "source": [
        "# Select the column(s) to be used within the data\n",
        "stratified_data = stratified_data[...]"
      ],
      "metadata": {
        "id": "RktzbO-RscZw"
      },
      "execution_count": null,
      "outputs": []
    },
    {
      "cell_type": "code",
      "source": [
        "# Save dataset(s)\n",
        "..."
      ],
      "metadata": {
        "id": "rbC7RDHMtAZu"
      },
      "execution_count": null,
      "outputs": []
    },
    {
      "cell_type": "code",
      "source": [
        "# Print data information\n",
        "# When called, provides information relevant to the provided data\n",
        "..."
      ],
      "metadata": {
        "id": "4upRBa30tpTF"
      },
      "execution_count": null,
      "outputs": []
    },
    {
      "cell_type": "markdown",
      "source": [
        "# Queries\n",
        "Code related to the statistal queries being run. This excludes any evaluations being done, only the queries themselves.\n",
        "Depending on the code structure for the DP libraries used, we may need to use different function calls for mean, sum, ... The mean, sum, and frequency functions should be abstracted such that the global DP file's functions can call them appropriately."
      ],
      "metadata": {
        "id": "0CHnE8vnt7hW"
      }
    },
    {
      "cell_type": "code",
      "source": [
        "# Mean\n",
        "..."
      ],
      "metadata": {
        "id": "3tlyTGs3ub1A"
      },
      "execution_count": null,
      "outputs": []
    },
    {
      "cell_type": "code",
      "source": [
        "# Sum\n",
        "..."
      ],
      "metadata": {
        "id": "dkWk9Elqu2xd"
      },
      "execution_count": null,
      "outputs": []
    },
    {
      "cell_type": "code",
      "source": [
        "# Frequency\n",
        "..."
      ],
      "metadata": {
        "id": "L2STdcotu4pr"
      },
      "execution_count": null,
      "outputs": []
    },
    {
      "cell_type": "code",
      "source": [
        "# Any others to add\n",
        "..."
      ],
      "metadata": {
        "id": "RVt9sjdOvXHo"
      },
      "execution_count": null,
      "outputs": []
    },
    {
      "cell_type": "markdown",
      "source": [
        "# Evaluation\n",
        "Code which compare the results from queries and/or the data itself."
      ],
      "metadata": {
        "id": "-OGVGtdivaDg"
      }
    },
    {
      "cell_type": "code",
      "source": [
        "# Explore the distribution of a provided dataset\n",
        "..."
      ],
      "metadata": {
        "id": "_GHboZhLvnID"
      },
      "execution_count": null,
      "outputs": []
    },
    {
      "cell_type": "code",
      "source": [
        "# Compare the distributions of two datasets\n",
        "..."
      ],
      "metadata": {
        "id": "Yy8oA1Tdv8ye"
      },
      "execution_count": null,
      "outputs": []
    },
    {
      "cell_type": "code",
      "source": [
        "# Compare the difference between two queries\n",
        "..."
      ],
      "metadata": {
        "id": "2HAdCWMxwCir"
      },
      "execution_count": null,
      "outputs": []
    },
    {
      "cell_type": "markdown",
      "source": [
        "# Local Differential Privacy\n",
        "Code exclusive for applying LDP on the data."
      ],
      "metadata": {
        "id": "hljnbUlfwxkZ"
      }
    },
    {
      "cell_type": "code",
      "source": [
        "# Function for generating each noise type, abstracting other parts (laplace, RR, ...)\n",
        "..."
      ],
      "metadata": {
        "id": "U6aPPaUWwMer"
      },
      "execution_count": null,
      "outputs": []
    },
    {
      "cell_type": "code",
      "source": [
        "# Function injecting the noise to the provided data"
      ],
      "metadata": {
        "id": "i-uF7DvixCXT"
      },
      "execution_count": null,
      "outputs": []
    },
    {
      "cell_type": "markdown",
      "source": [
        "# Global Differential Privacy\n",
        "Code exclusive for applying GDP on the data."
      ],
      "metadata": {
        "id": "DmpXiFFyxMek"
      }
    },
    {
      "cell_type": "code",
      "source": [
        "# Differentially private queries (see Queries file section)\n",
        "..."
      ],
      "metadata": {
        "id": "RK7O5mwTxQFf"
      },
      "execution_count": null,
      "outputs": []
    },
    {
      "cell_type": "markdown",
      "source": [
        "# Shuffle Differential Privacy\n",
        "Code exclusive for applying SDP on the data."
      ],
      "metadata": {
        "id": "xRpVKwMOx-7K"
      }
    },
    {
      "cell_type": "code",
      "source": [
        "# Function to act as the shuffler\n",
        "..."
      ],
      "metadata": {
        "id": "pn5YpqlYx9ZO"
      },
      "execution_count": null,
      "outputs": []
    },
    {
      "cell_type": "markdown",
      "source": [
        "# Model Tests\n",
        "Code exclusive fro testing DP applied to different models (wish list)"
      ],
      "metadata": {
        "id": "f7oqzw9LyPHn"
      }
    },
    {
      "cell_type": "code",
      "source": [
        "# Regression models\n",
        "..."
      ],
      "metadata": {
        "id": "cnmOLLPXyUFu"
      },
      "execution_count": null,
      "outputs": []
    },
    {
      "cell_type": "code",
      "source": [
        "# ML models\n",
        "..."
      ],
      "metadata": {
        "id": "g6bzL-IzzEpc"
      },
      "execution_count": null,
      "outputs": []
    }
  ]
}